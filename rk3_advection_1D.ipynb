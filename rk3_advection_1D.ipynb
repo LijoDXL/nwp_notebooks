{
 "cells": [
  {
   "cell_type": "code",
   "execution_count": 1,
   "metadata": {
    "collapsed": true
   },
   "outputs": [],
   "source": [
    "import numpy as np\n",
    "import matplotlib.pylab as plt\n",
    "from tempfile import NamedTemporaryFile\n",
    "from IPython.display import HTML\n",
    "from matplotlib import animation"
   ]
  },
  {
   "cell_type": "code",
   "execution_count": 48,
   "metadata": {
    "collapsed": false
   },
   "outputs": [],
   "source": [
    "x = np.linspace(0,1,51)\n",
    "\n",
    "# Smooth Rectangle\n",
    "f = 1. / (1. + np.exp(80.*(np.abs(x-0.5) - 0.15)))\n",
    "\n",
    "# Triangle\n",
    "#f = np.zeros((51))\n",
    "#for i in range(13,26):\n",
    "#    f[i] = (4.)*(x[i]-0.25)\n",
    "#for i in range(26,38):\n",
    "#    f[i] = (-4.)*(x[i]-0.75)\n",
    "\n",
    "\n",
    "exact_f = np.empty((251,51))\n",
    "f2 = f\n",
    "exact_f[0,:] = f2\n",
    "for i in range(1,251):\n",
    "    if (i%5 == 0):\n",
    "        f2 = np.roll(f2,2)\n",
    "    if ((i+50)%125 == 0):\n",
    "        f2 = np.roll(f2,1)\n",
    "    exact_f[i,:] = f2"
   ]
  },
  {
   "cell_type": "code",
   "execution_count": 59,
   "metadata": {
    "collapsed": false
   },
   "outputs": [
    {
     "name": "stdout",
     "output_type": "stream",
     "text": [
      "0.0682446156277\n"
     ]
    }
   ],
   "source": [
    "# Fourth Order Spatial, RK3 in Time\n",
    "cnum = 0.4\n",
    "gamma = 0.025\n",
    "\n",
    "qc4 = np.empty((251,51))\n",
    "rk3_1 = np.empty((251,51))\n",
    "rk3_2 = np.empty((251,51))\n",
    "qc4[0,:] = f\n",
    "rk3_1[0,:] = 0\n",
    "rk3_2[0,:] = 0\n",
    "    \n",
    "for i in range(1,251):\n",
    "    # First RK3 Step\n",
    "    rk3_1[i,0] = qc4[i-1,0] - cnum/3.*(8.*(qc4[i-1,1]-qc4[i-1,49]) - qc4[i-1,2] + qc4[i-1,48])/12.\n",
    "    rk3_1[i,1] = qc4[i-1,1] - cnum/3.*(8.*(qc4[i-1,2]-qc4[i-1,0]) - qc4[i-1,3] + qc4[i-1,49])/12.\n",
    "    for j in range(2,49):\n",
    "        rk3_1[i,j] = qc4[i-1,j] - cnum/3.*(8.*(qc4[i-1,j+1]-qc4[i-1,j-1]) - qc4[i-1,j+2] + qc4[i-1,j-2])/12.\n",
    "\n",
    "    # BCs\n",
    "    rk3_1[i,49] = qc4[i-1,49] - cnum/3.*(8.*(qc4[i-1,0]-qc4[i-1,48]) - qc4[i-1,1] + qc4[i-1,47])/12.\n",
    "    rk3_1[i,50] = rk3_1[i,0]\n",
    "    \n",
    "    # Second RK3 Step\n",
    "    rk3_2[i,0] = qc4[i-1,0] - cnum/2.*(8.*(rk3_1[i,1]-rk3_1[i,49]) - rk3_1[i,2] + rk3_1[i,48])/12.\n",
    "    rk3_2[i,1] = qc4[i-1,1] - cnum/2.*(8.*(rk3_1[i,2]-rk3_1[i,0]) - rk3_1[i,3] + rk3_1[i,49])/12.\n",
    "    for j in range(2,49):\n",
    "        rk3_2[i,j] = qc4[i-1,j] - cnum/2.*(8.*(rk3_1[i,j+1]-rk3_1[i,j-1]) - rk3_1[i,j+2] + rk3_1[i,j-2])/12.\n",
    "\n",
    "    # BCs\n",
    "    rk3_2[i,49] = qc4[i-1,49] - cnum/2.*(8.*(rk3_1[i,0]-rk3_1[i,48]) - rk3_1[i,1] + rk3_1[i,47])/12.\n",
    "    rk3_2[i,50] = rk3_2[i,0]\n",
    "    \n",
    "    # Third RK3 Step\n",
    "    qc4[i,0] = qc4[i-1,0] - cnum*(8.*(rk3_2[i,1]-rk3_2[i,49]) - rk3_2[i,2] + rk3_2[i,48])/12.\n",
    "    qc4[i,1] = qc4[i-1,1] - cnum*(8.*(rk3_2[i,2]-rk3_2[i,0]) - rk3_2[i,3] + rk3_2[i,49])/12.\n",
    "    for j in range(2,49):\n",
    "        qc4[i,j] = qc4[i-1,j] - cnum*(8.*(rk3_2[i,j+1]-rk3_2[i,j-1]) - rk3_2[i,j+2] + rk3_2[i,j-2])/12.\n",
    "\n",
    "    # BCs\n",
    "    qc4[i,49] = qc4[i-1,49] - cnum*(8.*(rk3_2[i,0]-rk3_2[i,48]) - rk3_2[i,1] + rk3_2[i,47])/12.\n",
    "    qc4[i,50] = qc4[i,0]\n",
    "\n",
    "TRER = np.sqrt(np.sum((f - qc4[250,:])**2./50.))\n",
    "print TRER"
   ]
  },
  {
   "cell_type": "code",
   "execution_count": 60,
   "metadata": {
    "collapsed": false
   },
   "outputs": [
    {
     "data": {
      "image/png": "[encoded data removed]",
      "text/plain": [
       "<matplotlib.figure.Figure at 0x117dd7190>"
      ]
     },
     "metadata": {},
     "output_type": "display_data"
    }
   ],
   "source": [
    "%matplotlib inline\n",
    "VIDEO_TAG = \"\"\"<video controls>\n",
    " <source src=\"data:video/x-m4v;base64,{0}\" type=\"video/mp4\">\n",
    " Your browser does not support the video tag.\n",
    "</video>\"\"\"\n",
    "\n",
    "def anim_to_html(anim):\n",
    "    if not hasattr(anim, '_encoded_video'):\n",
    "        with NamedTemporaryFile(suffix='.mp4') as f:\n",
    "            anim.save(f.name, fps=20,dpi=150,extra_args=['-vcodec', 'libx264'])\n",
    "            video = open(f.name, \"rb\").read()\n",
    "        anim._encoded_video = video.encode(\"base64\")\n",
    "    \n",
    "    return VIDEO_TAG.format(anim._encoded_video)\n",
    "\n",
    "def display_animation(anim):\n",
    "    plt.close(anim._fig)\n",
    "    return HTML(anim_to_html(anim))\n",
    "\n",
    "# First set up the figure, the axis, and the plot element we want to animate\n",
    "fig = plt.figure()\n",
    "ax = plt.axes(xlim=(0, 1), ylim=(-0.5, 1.5))\n",
    "plt.title('RK3, 4th Order in Space')\n",
    "line, = ax.plot([], [], lw=1)\n",
    "line2, = ax.plot([], [], lw=1,ls='dashed',color='r')\n",
    "time_template = 't = %.0f'\n",
    "time_text = ax.text(0.05, 1.4, '')\n",
    "ax.axvline(0.5,ls='dotted',color='k')\n",
    "plt.text(0.7,1.4,'TRER = '+str(np.round(TRER,decimals=4)))\n",
    "x2 = x\n",
    "\n",
    "# initialization function: plot the background of each frame\n",
    "def init():\n",
    "    line.set_data([], [])\n",
    "    line2.set_data([], [])\n",
    "    time_text.set_text('')\n",
    "    return line, line2, time_text\n",
    "\n",
    "# animation function.  This is called sequentially\n",
    "def animate(i):\n",
    "    #x = np.linspace(0, 2, 1000)\n",
    "    #y = np.sin(2 * np.pi * (x - 0.01 * i))\n",
    "    line.set_data(x, qc4[i,:])\n",
    "    line2.set_data(x, exact_f[i,:])\n",
    "    time_text.set_text(time_template % (i))\n",
    "    return line, line2, time_text\n",
    "\n",
    "# call the animator.  blit=True means only re-draw the parts that have changed.\n",
    "anim = animation.FuncAnimation(fig, animate, init_func=init,\n",
    "                               frames=251, interval=20, blit=True)\n",
    "\n",
    "# call our new function to display the animation\n",
    "#display_animation(anim)\n",
    "\n",
    "# To same animation, comment out previous line and\n",
    "# uncomment the next two lines.\n",
    "fname = 'rk3_time_4th_order_space_box.mp4'\n",
    "anim.save(fname, fps=20,dpi=500)"
   ]
  },
  {
   "cell_type": "code",
   "execution_count": 61,
   "metadata": {
    "collapsed": false
   },
   "outputs": [
    {
     "name": "stdout",
     "output_type": "stream",
     "text": [
      "0.0323606135233\n"
     ]
    }
   ],
   "source": [
    "# Sixth Order Spatial, RK3\n",
    "cnum = 0.4\n",
    "gamma = 0.025\n",
    "\n",
    "qc6 = np.empty((251,51))\n",
    "rk3_1 = np.empty((251,51))\n",
    "rk3_2 = np.empty((251,51))\n",
    "qc6[0,:] = f\n",
    "rk3_1[0,:] = 0\n",
    "rk3_2[0,:] = 0\n",
    "\n",
    "\n",
    "for i in range(1,251):\n",
    "    # First RK3 Step\n",
    "    rk3_1[i,0] = qc6[i-1,0] - cnum/3.*(45.*(qc6[i-1,1]-qc6[i-1,49]) + 9.*(qc6[i-1,48] - qc6[i-1,2]) \n",
    "                                   + qc6[i-1,3] - qc6[i-1,47])/60.\n",
    "    rk3_1[i,1] = qc6[i-1,1] - cnum/3.*(45.*(qc6[i-1,2]-qc6[i-1,0]) + 9.*(qc6[i-1,49] - qc6[i-1,3]) \n",
    "                                   + qc6[i-1,4] - qc6[i-1,48])/60.\n",
    "    rk3_1[i,2] = qc6[i-1,2] - cnum/3.*(45.*(qc6[i-1,3]-qc6[i-1,1]) + 9.*(qc6[i-1,0] - qc6[i-1,4]) \n",
    "                                   + qc6[i-1,5] - qc6[i-1,49])/60.\n",
    "    \n",
    "    for j in range(3,48):\n",
    "        rk3_1[i,j] = qc6[i-1,j] - cnum/3.*(45.*(qc6[i-1,j+1]-qc6[i-1,j-1]) + 9.*(qc6[i-1,j-2] - qc6[i-1,j+2]) \n",
    "                                       + qc6[i-1,j+3] - qc6[i-1,j-3])/60.\n",
    "    # BCs\n",
    "    rk3_1[i,48] = qc6[i-1,48] - cnum/3.*(45.*(qc6[i-1,49]-qc6[i-1,47]) + 9.*(qc6[i-1,46] - qc6[i-1,0])\n",
    "                                     + qc6[i-1,1] - qc6[i-1,45])/60.\n",
    "    rk3_1[i,49] = qc6[i-1,49] - cnum/3.*(45.*(qc6[i-1,0]-qc6[i-1,48]) + 9.*(qc6[i-1,47] - qc6[i-1,1])\n",
    "                                     + qc6[i-1,2] - qc6[i-1,46])/60.\n",
    "    rk3_1[i,50] = rk3_1[i,0]\n",
    "    \n",
    "    \n",
    "    # Second RK3 Step\n",
    "    rk3_2[i,0] = qc6[i-1,0] - cnum/2.*(45.*(rk3_1[i,1]-rk3_1[i,49]) + 9.*(rk3_1[i,48] - rk3_1[i,2]) \n",
    "                                   + rk3_1[i,3] - rk3_1[i,47])/60.\n",
    "    rk3_2[i,1] = qc6[i-1,1] - cnum/2.*(45.*(rk3_1[i,2]-rk3_1[i,0]) + 9.*(rk3_1[i,49] - rk3_1[i,3]) \n",
    "                                   + rk3_1[i,4] - rk3_1[i,48])/60.\n",
    "    rk3_2[i,2] = qc6[i-1,2] - cnum/2.*(45.*(rk3_1[i,3]-rk3_1[i,1]) + 9.*(rk3_1[i,0] - rk3_1[i,4]) \n",
    "                                   + rk3_1[i,5] - rk3_1[i,49])/60.\n",
    "    \n",
    "    for j in range(3,48):\n",
    "        rk3_2[i,j] = qc6[i-1,j] - cnum/2.*(45.*(rk3_1[i,j+1]-rk3_1[i,j-1]) + 9.*(rk3_1[i,j-2] - rk3_1[i,j+2]) \n",
    "                                       + rk3_1[i,j+3] - rk3_1[i,j-3])/60.\n",
    "    # BCs\n",
    "    rk3_2[i,48] = qc6[i-1,48] - cnum/2.*(45.*(rk3_1[i,49]-rk3_1[i,47]) + 9.*(rk3_1[i,46] - rk3_1[i,0])\n",
    "                                     + rk3_1[i,1] - rk3_1[i,45])/60.\n",
    "    rk3_2[i,49] = qc6[i-1,49] - cnum/2.*(45.*(rk3_1[i,0]-rk3_1[i,48]) + 9.*(rk3_1[i,47] - rk3_1[i,1])\n",
    "                                     + rk3_1[i,2] - rk3_1[i,46])/60.\n",
    "    rk3_2[i,50] = rk3_2[i,0]\n",
    "    \n",
    "    \n",
    "    # Third RK3 Step\n",
    "    qc6[i,0] = qc6[i-1,0] - cnum*(45.*(rk3_2[i,1]-rk3_2[i,49]) + 9.*(rk3_2[i,48] - rk3_2[i,2]) \n",
    "                                   + rk3_2[i,3] - rk3_2[i,47])/60.\n",
    "    qc6[i,1] = qc6[i-1,1] - cnum*(45.*(rk3_2[i,2]-rk3_2[i,0]) + 9.*(rk3_2[i,49] - rk3_2[i,3]) \n",
    "                                   + rk3_2[i,4] - rk3_2[i,48])/60.\n",
    "    qc6[i,2] = qc6[i-1,2] - cnum*(45.*(rk3_2[i,3]-rk3_2[i,1]) + 9.*(rk3_2[i,0] - rk3_2[i,4]) \n",
    "                                   + rk3_2[i,5] - rk3_2[i,49])/60.\n",
    "    \n",
    "    for j in range(3,48):\n",
    "        qc6[i,j] = qc6[i-1,j] - cnum*(45.*(rk3_2[i,j+1]-rk3_2[i,j-1]) + 9.*(rk3_2[i,j-2] - rk3_2[i,j+2]) \n",
    "                                       + rk3_2[i,j+3] - rk3_2[i,j-3])/60.\n",
    "    # BCs\n",
    "    qc6[i,48] = qc6[i-1,48] - cnum*(45.*(rk3_2[i,49]-rk3_2[i,47]) + 9.*(rk3_2[i,46] - rk3_2[i,0])\n",
    "                                     + rk3_2[i,1] - rk3_2[i,45])/60.\n",
    "    qc6[i,49] = qc6[i-1,49] - cnum*(45.*(rk3_2[i,0]-rk3_2[i,48]) + 9.*(rk3_2[i,47] - rk3_2[i,1])\n",
    "                                     + rk3_2[i,2] - rk3_2[i,46])/60.\n",
    "    qc6[i,50] = qc6[i,0] \n",
    "TRER = np.sqrt(np.sum((f - qc6[250,:])**2./50.))\n",
    "print TRER"
   ]
  },
  {
   "cell_type": "code",
   "execution_count": 62,
   "metadata": {
    "collapsed": false
   },
   "outputs": [
    {
     "data": {
      "image/png": "[encoded data removed]",
      "text/plain": [
       "<matplotlib.figure.Figure at 0x115949290>"
      ]
     },
     "metadata": {},
     "output_type": "display_data"
    }
   ],
   "source": [
    "# First set up the figure, the axis, and the plot element we want to animate\n",
    "fig = plt.figure()\n",
    "ax = plt.axes(xlim=(0, 1), ylim=(-0.5, 1.5))\n",
    "plt.title('RK3, 6th Order in Space')\n",
    "line, = ax.plot([], [], lw=1)\n",
    "line2, = ax.plot([], [], lw=1,ls='dashed',color='r')\n",
    "time_template = 't = %.0f'\n",
    "time_text = ax.text(0.05, 1.4, '')\n",
    "ax.axvline(0.5,ls='dotted',color='k')\n",
    "plt.text(0.7,1.4,'TRER = '+str(np.round(TRER,decimals=4)))\n",
    "x2 = x\n",
    "\n",
    "# initialization function: plot the background of each frame\n",
    "def init():\n",
    "    line.set_data([], [])\n",
    "    line2.set_data([], [])\n",
    "    time_text.set_text('')\n",
    "    return line, line2, time_text\n",
    "\n",
    "# animation function.  This is called sequentially\n",
    "def animate(i):\n",
    "    #x = np.linspace(0, 2, 1000)\n",
    "    #y = np.sin(2 * np.pi * (x - 0.01 * i))\n",
    "    line.set_data(x, qc6[i,:])\n",
    "    line2.set_data(x, exact_f[i,:])\n",
    "    time_text.set_text(time_template % (i))\n",
    "    return line, line2, time_text\n",
    "\n",
    "# call the animator.  blit=True means only re-draw the parts that have changed.\n",
    "anim = animation.FuncAnimation(fig, animate, init_func=init,\n",
    "                               frames=251, interval=20, blit=True)\n",
    "\n",
    "# call our new function to display the animation\n",
    "#display_animation(anim)\n",
    "\n",
    "# To same animation, comment out previous line and\n",
    "# uncomment the next two lines.\n",
    "fname = 'rk3_time_6th_order_space_box.mp4'\n",
    "anim.save(fname, fps=20,dpi=500)"
   ]
  },
  {
   "cell_type": "code",
   "execution_count": 53,
   "metadata": {
    "collapsed": false
   },
   "outputs": [
    {
     "name": "stdout",
     "output_type": "stream",
     "text": [
      "0.0395013080436\n"
     ]
    }
   ],
   "source": [
    "# Fifth Order Spatial, RK3\n",
    "cnum = 0.4\n",
    "gamma = 0.025\n",
    "\n",
    "qc5 = np.empty((251,51))\n",
    "rk3_1 = np.empty((251,51))\n",
    "rk3_2 = np.empty((251,51))\n",
    "qc5[0,:] = f\n",
    "rk3_1[0,:] = 0\n",
    "rk3_2[0,:] = 0\n",
    "\n",
    "\n",
    "for i in range(1,251):\n",
    "    # First RK3 Step\n",
    "    rk3_1[i,0] = qc5[i-1,0] - cnum/3.*(30.*qc5[i-1,1] - 60.*qc5[i-1,49] + 20.*qc5[i-1,0] + 15.*qc5[i-1,48] \n",
    "                                     - 3.*qc5[i-1,2] - 2.*qc5[i-1,47])/60.\n",
    "    rk3_1[i,1] = qc5[i-1,1] - cnum/3.*(30.*qc5[i-1,2] - 60.*qc5[i-1,0] + 20.*qc5[i-1,1] + 15.*qc5[i-1,49] \n",
    "                                     - 3.*qc5[i-1,3] - 2.*qc5[i-1,48])/60.\n",
    "    rk3_1[i,2] = qc5[i-1,2] - cnum/3.*(30.*qc5[i-1,3] - 60.*qc5[i-1,1] + 20.*qc5[i-1,2] + 15.*qc5[i-1,0]\n",
    "                                     - 3.*qc5[i-1,4] - 2.*qc5[i-1,49])/60.\n",
    "    \n",
    "    for j in range(3,48):\n",
    "        rk3_1[i,j] = qc5[i-1,j] - cnum/3.*(30.*qc5[i-1,j+1] - 60.*qc5[i-1,j-1] + 20.*qc5[i-1,j] \n",
    "                                         + 15.*qc5[i-1,j-2] - 3.*qc5[i-1,j+2] - 2.*qc5[i-1,j-3])/60.\n",
    "    # BCs\n",
    "    rk3_1[i,48] = qc5[i-1,48] - cnum/3.*(30.*qc5[i-1,49] - 60.*qc5[i-1,47] + 20.*qc5[i-1,48] + 15.*qc5[i-1,46]\n",
    "                                       - 3.*qc5[i-1,0] - 2.*qc5[i-1,45])/60.\n",
    "    rk3_1[i,49] = qc5[i-1,49] - cnum/3.*(30.*qc5[i-1,0] - 60.*qc5[i-1,48] + 20.*qc5[i-1,49] + 15.*qc5[i-1,47]\n",
    "                                       - 3.*qc5[i-1,1] - 2.*qc5[i-1,46])/60.\n",
    "    rk3_1[i,50] = rk3_1[i,0]\n",
    "    \n",
    "    \n",
    "    # Second RK3 Step\n",
    "    rk3_2[i,0] = qc5[i-1,0] - cnum/2.*(30.*rk3_1[i,1] - 60.*rk3_1[i,49] + 20.*rk3_1[i,0] + 15.*rk3_1[i,48]\n",
    "                                     - 3.*rk3_1[i,2] - 2.*rk3_1[i,47])/60.\n",
    "    rk3_2[i,1] = qc5[i-1,1] - cnum/2.*(30.*rk3_1[i,2] - 60.*rk3_1[i,0] + 20.*rk3_1[i,1] + 15.*rk3_1[i,49] \n",
    "                                     - 3.*rk3_1[i,3] - 2.*rk3_1[i,48])/60.\n",
    "    rk3_2[i,2] = qc5[i-1,2] - cnum/2.*(30.*rk3_1[i,3] - 60.*rk3_1[i,1] + 20.*rk3_1[i,2] + 15.*rk3_1[i,0]\n",
    "                                     - 3.*rk3_1[i,4] - 2.*rk3_1[i,49])/60.\n",
    "    \n",
    "    for j in range(3,48):\n",
    "        rk3_2[i,j] = qc5[i-1,j] - cnum/2.*(30.*rk3_1[i,j+1] - 60.*rk3_1[i,j-1] + 20.*rk3_1[i,j] \n",
    "                                         + 15.*rk3_1[i,j-2] - 3.*rk3_1[i,j+2] - 2.*rk3_1[i,j-3])/60.\n",
    "    # BCs\n",
    "    rk3_2[i,48] = qc5[i-1,48] - cnum/2.*(30.*rk3_1[i,49] - 60.*rk3_1[i,47] + 20.*rk3_1[i,48] + 15.*rk3_1[i,46] \n",
    "                                      - 3.*rk3_1[i,0] - 2.*rk3_1[i,45])/60.\n",
    "    rk3_2[i,49] = qc5[i-1,49] - cnum/2.*(30.*rk3_1[i,0] - 60.*rk3_1[i,48] + 20.*rk3_1[i,49] + 15.*rk3_1[i,47] \n",
    "                                      - 3.*rk3_1[i,1] - 2.*rk3_1[i,46])/60.\n",
    "    rk3_2[i,50] = rk3_2[i,0]\n",
    "    \n",
    "    \n",
    "    # Third RK3 Step\n",
    "    qc5[i,0] = qc5[i-1,0] - cnum*(30.*rk3_2[i,1] - 60.*rk3_2[i,49] + 20.*rk3_2[i,0] + 15.*rk3_2[i,48] \n",
    "                                  - 3.*rk3_2[i,2] - 2.*rk3_2[i,47])/60.\n",
    "    qc5[i,1] = qc5[i-1,1] - cnum*(30.*rk3_2[i,2] - 60.*rk3_2[i,0] + 20.*rk3_2[i,1] + 15.*rk3_2[i,49] \n",
    "                                  - 3.*rk3_2[i,3] - 2.*rk3_2[i,48])/60.\n",
    "    qc5[i,2] = qc5[i-1,2] - cnum*(30.*rk3_2[i,3] - 60.*rk3_2[i,1] + 20.*rk3_2[i,2] + 15.*rk3_2[i,0] \n",
    "                                  - 3.*rk3_2[i,4] - 2.*rk3_2[i,49])/60.\n",
    "    \n",
    "    for j in range(3,48):\n",
    "        qc5[i,j] = qc5[i-1,j] - cnum*(30.*rk3_2[i,j+1] - 60.*rk3_2[i,j-1] + 20.*rk3_2[i,j] \n",
    "                                    + 15.*rk3_2[i,j-2] - 3.*rk3_2[i,j+2] - 2.*rk3_2[i,j-3])/60.\n",
    "    # BCs\n",
    "    qc5[i,48] = qc5[i-1,48] - cnum*(30.*rk3_2[i,49] - 60.*rk3_2[i,47] + 20.*rk3_2[i,48] + 15.*rk3_2[i,46]\n",
    "                                    - 3.*rk3_2[i,0] - 2.*rk3_2[i,45])/60.\n",
    "    qc5[i,49] = qc5[i-1,49] - cnum*(30.*rk3_2[i,0] - 60.*rk3_2[i,48] + 20.*rk3_2[i,49] + 15.*rk3_2[i,47]\n",
    "                                    - 3.*rk3_2[i,1] - 2.*rk3_2[i,46])/60.\n",
    "    qc5[i,50] = qc5[i,0]\n",
    "TRER = np.sqrt(np.sum((f - qc5[250,:])**2./50.))\n",
    "print TRER   "
   ]
  },
  {
   "cell_type": "code",
   "execution_count": 58,
   "metadata": {
    "collapsed": false
   },
   "outputs": [
    {
     "data": {
      "image/png": "[encoded data removed]",
      "text/plain": [
       "<matplotlib.figure.Figure at 0x114854bd0>"
      ]
     },
     "metadata": {},
     "output_type": "display_data"
    }
   ],
   "source": [
    "# First set up the figure, the axis, and the plot element we want to animate\n",
    "fig = plt.figure()\n",
    "ax = plt.axes(xlim=(0, 1), ylim=(-0.5, 1.5))\n",
    "plt.title('RK3, 5th Order in Space')\n",
    "line, = ax.plot([], [], lw=1)\n",
    "line2, = ax.plot([], [], lw=1,ls='dashed',color='r')\n",
    "time_template = 't = %.0f'\n",
    "time_text = ax.text(0.05, 1.4, '')\n",
    "ax.axvline(0.5,ls='dotted',color='k')\n",
    "plt.text(0.7,1.4,'TRER = '+str(np.round(TRER,decimals=4)))\n",
    "x2 = x\n",
    "\n",
    "# initialization function: plot the background of each frame\n",
    "def init():\n",
    "    line.set_data([], [])\n",
    "    line2.set_data([], [])\n",
    "    time_text.set_text('')\n",
    "    return line, line2, time_text\n",
    "\n",
    "# animation function.  This is called sequentially\n",
    "def animate(i):\n",
    "    #x = np.linspace(0, 2, 1000)\n",
    "    #y = np.sin(2 * np.pi * (x - 0.01 * i))\n",
    "    line.set_data(x, qc5[i,:])\n",
    "    line2.set_data(x, exact_f[i,:])\n",
    "    time_text.set_text(time_template % (i))\n",
    "    return line, line2, time_text\n",
    "\n",
    "# call the animator.  blit=True means only re-draw the parts that have changed.\n",
    "anim = animation.FuncAnimation(fig, animate, init_func=init,\n",
    "                               frames=251, interval=20, blit=True)\n",
    "\n",
    "# call our new function to display the animation\n",
    "#display_animation(anim)\n",
    "\n",
    "# To same animation, comment out previous line and\n",
    "# uncomment the next two lines.\n",
    "fname = 'rk3_time_5th_order_space_box.mp4'\n",
    "anim.save(fname, fps=20,dpi=500)"
   ]
  },
  {
   "cell_type": "code",
   "execution_count": 57,
   "metadata": {
    "collapsed": false
   },
   "outputs": [
    {
     "data": {
      "image/png": "[encoded data removed]",
      "text/plain": [
       "<matplotlib.figure.Figure at 0x113c455d0>"
      ]
     },
     "metadata": {},
     "output_type": "display_data"
    }
   ],
   "source": [
    "%matplotlib inline\n",
    "# First set up the figure, the axis, and the plot element we want to animate\n",
    "fig = plt.figure()\n",
    "ax = plt.axes(xlim=(0, 1), ylim=(-0.5, 1.5))\n",
    "plt.title('RK3 in Time Differencing')\n",
    "#line, = ax.plot([], [], lw=1, label='Upstream')\n",
    "line4, = ax.plot([], [], lw=1, c='darkcyan', label='4th Order')\n",
    "line5, = ax.plot([], [], lw=1, c='purple', label='5th Order')\n",
    "line6, = ax.plot([], [], lw=1, c='darkgreen', label='6th Order')\n",
    "line_ex, = ax.plot([], [], lw=1,ls='dashed',color='r')\n",
    "time_template = 't = %.0f'\n",
    "time_text = ax.text(0.05, 1.4, '')\n",
    "ax.axvline(0.5,ls='dotted',color='k')\n",
    "ax.legend(handles=[line4,line5,line6],loc='lower center',fontsize=8,ncol=4)\n",
    "x2 = x\n",
    "\n",
    "# initialization function: plot the background of each frame\n",
    "def init():\n",
    "    #line.set_data([], [])\n",
    "    line4.set_data([], [])\n",
    "    line5.set_data([], [])\n",
    "    line6.set_data([], [])\n",
    "    line_ex.set_data([], [])\n",
    "    time_text.set_text('')\n",
    "    return line4, line5, line6, line_ex, time_text\n",
    "\n",
    "# animation function.  This is called sequentially\n",
    "def animate(i):\n",
    "    #x = np.linspace(0, 2, 1000)\n",
    "    #y = np.sin(2 * np.pi * (x - 0.01 * i))\n",
    "    #line.set_data(x, q[i,:])\n",
    "    line4.set_data(x, qc4[i,:])\n",
    "    line5.set_data(x, qc5[i,:])\n",
    "    line6.set_data(x, qc6[i,:])\n",
    "    line_ex.set_data(x, exact_f[i,:])\n",
    "    time_text.set_text(time_template % (i))\n",
    "    return line4, line5, line6, line_ex, time_text\n",
    "\n",
    "# call the animator.  blit=True means only re-draw the parts that have changed.\n",
    "anim = animation.FuncAnimation(fig, animate, init_func=init,\n",
    "                               frames=251, interval=20, blit=True)\n",
    "\n",
    "# call our new function to display the animation\n",
    "#display_animation(anim)\n",
    "\n",
    "# To same animation, comment out previous line and\n",
    "# uncomment the next two lines.\n",
    "fname = 'rk3_time_all_box.mp4'\n",
    "anim.save(fname, fps=20,dpi=500)"
   ]
  },
  {
   "cell_type": "code",
   "execution_count": null,
   "metadata": {
    "collapsed": true
   },
   "outputs": [],
   "source": []
  }
 ],
 "metadata": {
  "anaconda-cloud": {},
  "kernelspec": {
   "display_name": "Python [Root]",
   "language": "python",
   "name": "Python [Root]"
  },
  "language_info": {
   "codemirror_mode": {
    "name": "ipython",
    "version": 3
   },
   "file_extension": ".py",
   "mimetype": "text/x-python",
   "name": "python",
   "nbconvert_exporter": "python",
   "pygments_lexer": "ipython3",
   "version": "3.5.2"
  }
 },
 "nbformat": 4,
 "nbformat_minor": 0
}
