{
 "cells": [
  {
   "cell_type": "code",
   "execution_count": 1,
   "metadata": {
    "collapsed": false
   },
   "outputs": [
    {
     "name": "stdout",
     "output_type": "stream",
     "text": [
      "29\n"
     ]
    }
   ],
   "source": [
    "import numpy as np\n",
    "import math\n",
    "#This script will do a Barnes analysis of the data for NWP\n",
    "#Inputting the arrays\n",
    "T = [28,29,30,31,32,32,35,36]\n",
    "R = [50,40,40,20,5,16,30,40]\n",
    "H = [29,30,32,30,29,31,33,35]\n",
    "RI = 60\n",
    "print T[1]"
   ]
  },
  {
   "cell_type": "code",
   "execution_count": 26,
   "metadata": {
    "collapsed": false
   },
   "outputs": [
    {
     "name": "stdout",
     "output_type": "stream",
     "text": [
      "36\n"
     ]
    }
   ],
   "source": [
    "print np.max(T)"
   ]
  },
  {
   "cell_type": "code",
   "execution_count": 27,
   "metadata": {
    "collapsed": false
   },
   "outputs": [
    {
     "name": "stdout",
     "output_type": "stream",
     "text": [
      "2.71828182846\n"
     ]
    }
   ],
   "source": [
    "print math.exp(1)"
   ]
  },
  {
   "cell_type": "code",
   "execution_count": 28,
   "metadata": {
    "collapsed": false
   },
   "outputs": [
    {
     "name": "stdout",
     "output_type": "stream",
     "text": [
      "93.0734986164\n",
      "31.625\n",
      "4.73532372594\n",
      "32.2129076678\n"
     ]
    }
   ],
   "source": [
    "#Set the variables\n",
    "\n",
    "i = 0\n",
    "x2 = 0\n",
    "ws = 0\n",
    "T1=0\n",
    "x2 =0\n",
    "#Do the 1st pass\n",
    "for i in range(8):\n",
    "    x = (math.exp(-R[i]**2/(2*(RI**2)))*T[i])\n",
    "    x2 = x2 + x\n",
    "    ws = ws + math.exp(-R[i]**2/(2*(RI**2)))\n",
    "print x2\n",
    "T1 = x2/ws\n",
    "print T1\n",
    "RI = math.sqrt(.3*(RI**2))\n",
    "b2 = 0\n",
    "\n",
    "#Do the second pass\n",
    "for i in range(8):\n",
    "    x = (math.exp(-R[i]**2/(2*(RI**2)))*(T[i]-H[i]))\n",
    "    b2 = b2 + x\n",
    "    ws = ws + math.exp(-R[i]**2/(2*(RI**2)))\n",
    "print b2\n",
    "T2 = T1 + b2/ws\n",
    "print T2"
   ]
  },
  {
   "cell_type": "code",
   "execution_count": 46,
   "metadata": {
    "collapsed": false
   },
   "outputs": [
    {
     "name": "stdout",
     "output_type": "stream",
     "text": [
      "342.611111863\n",
      "31.6283445521\n"
     ]
    }
   ],
   "source": [
    "#Don't use this cell, I messed up here. \n",
    "i = 0\n",
    "x2 = 0\n",
    "ws = 0\n",
    "RI = 60\n",
    "for i in range(2):\n",
    "     \n",
    "    for i in range(8):\n",
    "        x = (math.exp(-R[i]/(2*(RI**2)))*T[i])\n",
    "        x2 = x2 + x\n",
    "        ws = ws + math.exp(-R[i]/(2*(RI**2)))\n",
    "\n",
    "    RI = math.sqrt(.3*(RI**2))\n",
    "    \n",
    "print x2\n",
    "T1 = x2/ws\n",
    "print T1"
   ]
  },
  {
   "cell_type": "code",
   "execution_count": 2,
   "metadata": {
    "collapsed": false
   },
   "outputs": [
    {
     "name": "stdout",
     "output_type": "stream",
     "text": [
      "93.0734986164\n",
      "31.625\n",
      "4.73532372594\n",
      "32.2129076678\n"
     ]
    }
   ],
   "source": [
    "#Set the variables\n",
    "\n",
    "i = 0\n",
    "x2 = 0\n",
    "ws = 0\n",
    "T1=0\n",
    "x2 =0\n",
    "w1 = 0\n",
    "#Do the 1st pass\n",
    "for i in range(8):\n",
    "    w1 = math.exp(-R[i]**2/(2*(RI**2)))\n",
    "    x = (w1*T[i])\n",
    "    x2 = x2 + x\n",
    "    ws = ws + w1\n",
    "print x2\n",
    "T1 = x2/ws\n",
    "print T1\n",
    "RI = math.sqrt(.3*(RI**2))\n",
    "b2 = 0\n",
    "\n",
    "#Do the second pass\n",
    "for i in range(8):\n",
    "    w2 = math.exp(-R[i]**2/(2*(RI**2)))\n",
    "    x3 = (w2*(T[i]-H[i]))\n",
    "    b2 = b2 + x3\n",
    "    ws = ws + w2\n",
    "print b2\n",
    "T2 = T1 + b2/ws\n",
    "print T2"
   ]
  },
  {
   "cell_type": "code",
   "execution_count": null,
   "metadata": {
    "collapsed": true
   },
   "outputs": [],
   "source": []
  }
 ],
 "metadata": {
  "kernelspec": {
   "display_name": "Python 2",
   "language": "python",
   "name": "python2"
  },
  "language_info": {
   "codemirror_mode": {
    "name": "ipython",
    "version": 2
   },
   "file_extension": ".py",
   "mimetype": "text/x-python",
   "name": "python",
   "nbconvert_exporter": "python",
   "pygments_lexer": "ipython2",
   "version": "2.7.10"
  }
 },
 "nbformat": 4,
 "nbformat_minor": 0
}
