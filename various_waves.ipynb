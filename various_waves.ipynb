{
 "cells": [
  {
   "cell_type": "code",
   "execution_count": 1,
   "metadata": {
    "collapsed": true
   },
   "outputs": [],
   "source": [
    "import numpy as np\n",
    "import matplotlib.pylab as plt\n",
    "from tempfile import NamedTemporaryFile\n",
    "from IPython.display import HTML\n",
    "from matplotlib import animation"
   ]
  },
  {
   "cell_type": "code",
   "execution_count": 34,
   "metadata": {
    "collapsed": false
   },
   "outputs": [
    {
     "name": "stdout",
     "output_type": "stream",
     "text": [
      "0.5\n",
      "0.24\n",
      "[ 0.    0.    0.    0.    0.    0.    0.    0.    0.    0.    0.    0.    0.\n",
      "  0.04  0.12  0.2   0.28  0.36  0.44  0.52  0.6   0.68  0.76  0.84  0.92\n",
      "  1.    0.92  0.84  0.76  0.68  0.6   0.52  0.44  0.36  0.28  0.2   0.12\n",
      "  0.04  0.    0.    0.    0.    0.    0.    0.    0.    0.    0.    0.    0.\n",
      "  0.  ]\n"
     ]
    }
   ],
   "source": [
    "# Triangle\n",
    "x = np.linspace(0,1,51)\n",
    "#f = 1. / (1. + np.exp(80.*(np.abs(x-0.5) - 0.15)))\n",
    "f = np.zeros((51))\n",
    "for i in range(13,26):\n",
    "    f[i] = (4.)*(x[i]-0.25)\n",
    "for i in range(26,38):\n",
    "    f[i] = (-4.)*(x[i]-0.75)\n",
    "print(f)"
   ]
  },
  {
   "cell_type": "code",
   "execution_count": 35,
   "metadata": {
    "collapsed": false
   },
   "outputs": [
    {
     "data": {
      "text/plain": [
       "[<matplotlib.lines.Line2D at 0x1127dc6d0>]"
      ]
     },
     "execution_count": 35,
     "metadata": {},
     "output_type": "execute_result"
    },
    {
     "data": {
      "image/png": "[encoded data removed]",
      "text/plain": [
       "<matplotlib.figure.Figure at 0x1125de910>"
      ]
     },
     "metadata": {},
     "output_type": "display_data"
    }
   ],
   "source": [
    "%matplotlib inline\n",
    "plt.plot(x,f)"
   ]
  },
  {
   "cell_type": "code",
   "execution_count": 38,
   "metadata": {
    "collapsed": false
   },
   "outputs": [
    {
     "name": "stdout",
     "output_type": "stream",
     "text": [
      "[  0.00000000e+00   1.25333234e-01   2.48689887e-01   3.68124553e-01\n",
      "   4.81753674e-01   5.87785252e-01   6.84547106e-01   7.70513243e-01\n",
      "   8.44327926e-01   9.04827052e-01   9.51056516e-01   9.82287251e-01\n",
      "   9.98026728e-01   9.98026728e-01   9.82287251e-01   9.51056516e-01\n",
      "   9.04827052e-01   8.44327926e-01   7.70513243e-01   6.84547106e-01\n",
      "   5.87785252e-01   4.81753674e-01   3.68124553e-01   2.48689887e-01\n",
      "   1.25333234e-01   1.22464680e-16  -1.25333234e-01  -2.48689887e-01\n",
      "  -3.68124553e-01  -4.81753674e-01  -5.87785252e-01  -6.84547106e-01\n",
      "  -7.70513243e-01  -8.44327926e-01  -9.04827052e-01  -9.51056516e-01\n",
      "  -9.82287251e-01  -9.98026728e-01  -9.98026728e-01  -9.82287251e-01\n",
      "  -9.51056516e-01  -9.04827052e-01  -8.44327926e-01  -7.70513243e-01\n",
      "  -6.84547106e-01  -5.87785252e-01  -4.81753674e-01  -3.68124553e-01\n",
      "  -2.48689887e-01  -1.25333234e-01  -2.44929360e-16]\n"
     ]
    }
   ],
   "source": [
    "# Sine Wave\n",
    "x = np.linspace(0,1,51)\n",
    "f = np.sin(x*2.*np.pi)\n",
    "print(f)"
   ]
  },
  {
   "cell_type": "code",
   "execution_count": 39,
   "metadata": {
    "collapsed": false
   },
   "outputs": [
    {
     "data": {
      "text/plain": [
       "[<matplotlib.lines.Line2D at 0x112aa7550>]"
      ]
     },
     "execution_count": 39,
     "metadata": {},
     "output_type": "execute_result"
    },
    {
     "data": {
      "image/png": "[encoded data removed]",
      "text/plain": [
       "<matplotlib.figure.Figure at 0x11298c990>"
      ]
     },
     "metadata": {},
     "output_type": "display_data"
    }
   ],
   "source": [
    "%matplotlib inline\n",
    "plt.plot(x,f)"
   ]
  },
  {
   "cell_type": "code",
   "execution_count": null,
   "metadata": {
    "collapsed": true
   },
   "outputs": [],
   "source": []
  }
 ],
 "metadata": {
  "kernelspec": {
   "display_name": "Python 2",
   "language": "python",
   "name": "python2"
  },
  "language_info": {
   "codemirror_mode": {
    "name": "ipython",
    "version": 2
   },
   "file_extension": ".py",
   "mimetype": "text/x-python",
   "name": "python",
   "nbconvert_exporter": "python",
   "pygments_lexer": "ipython2",
   "version": "2.7.11"
  }
 },
 "nbformat": 4,
 "nbformat_minor": 0
}
